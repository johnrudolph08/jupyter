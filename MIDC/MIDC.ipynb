{
 "cells": [
  {
   "cell_type": "markdown",
   "metadata": {
    "collapsed": true,
    "slideshow": {
     "slide_type": "-"
    }
   },
   "source": [
    "# MIDC Electricity Data Sandbox"
   ]
  },
  {
   "cell_type": "markdown",
   "metadata": {},
   "source": [
    "Plot MIDC Price vs SUMAS Price by Month"
   ]
  },
  {
   "cell_type": "code",
   "execution_count": 7,
   "metadata": {
    "collapsed": true,
    "slideshow": {
     "slide_type": "-"
    }
   },
   "outputs": [],
   "source": [
    "import pandas as pd\n",
    "import matplotlib.pyplot as plt\n",
    "import matplotlib.dates as mdates\n",
    "#import numpy as np  \n",
    "\n",
    "# read in csv file\n",
    "df = pd.read_csv('mid_c.csv')\n",
    "\n",
    "#create arrays of values\n",
    "Date = pd.to_datetime(pd.Series(df.Date.values)) #need to convert dates from string to datetime\n",
    "Peak = df.Peak.values\n",
    "Sumas = df.Sumas.values\n",
    "\n",
    "#create figure\n",
    "fig, ax1 = plt.subplots()\n",
    "ax1.plot(Date, Peak, 'b-')\n",
    "ax1.set_xlabel('Date')\n",
    "# Make the y1-axis label and tick labels match the line color.\n",
    "ax1.set_ylabel('MIDC ($/MWh)', color='b')\n",
    "for tl in ax1.get_yticklabels():\n",
    "    tl.set_color('b')\n",
    "\n",
    "#add a second axis      \n",
    "ax2 = ax1.twinx()\n",
    "ax2.plot(Date, Sumas, 'r.')\n",
    "# Make the y2-axis label and tick labels match the line color.\n",
    "ax2.set_ylabel('SUMAS $/MMBtu', color='r')\n",
    "for tl in ax2.get_yticklabels():\n",
    "    tl.set_color('r')\n",
    "\n",
    "#create plot    \n",
    "plt.show()\n"
   ]
  },
  {
   "cell_type": "code",
   "execution_count": null,
   "metadata": {
    "collapsed": true
   },
   "outputs": [],
   "source": []
  }
 ],
 "metadata": {
  "kernelspec": {
   "display_name": "Python 3",
   "language": "python",
   "name": "python3"
  },
  "language_info": {
   "codemirror_mode": {
    "name": "ipython",
    "version": 3
   },
   "file_extension": ".py",
   "mimetype": "text/x-python",
   "name": "python",
   "nbconvert_exporter": "python",
   "pygments_lexer": "ipython3",
   "version": "3.4.3"
  }
 },
 "nbformat": 4,
 "nbformat_minor": 0
}
